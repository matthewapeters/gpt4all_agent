{
 "cells": [
  {
   "cell_type": "code",
   "execution_count": 1,
   "id": "93413fa6-a666-4212-8d88-a818ec64806e",
   "metadata": {},
   "outputs": [],
   "source": [
    "from bs4 import BeautifulSoup\n",
    "import requests\n",
    "import lxml"
   ]
  },
  {
   "cell_type": "code",
   "execution_count": 2,
   "id": "bac03350-610e-46c3-a74a-95ce95481526",
   "metadata": {},
   "outputs": [],
   "source": [
    "url = \"http://apnews.com\""
   ]
  },
  {
   "cell_type": "code",
   "execution_count": 3,
   "id": "5ba22c25-b3f2-4f2c-932d-ab1cff5c4209",
   "metadata": {},
   "outputs": [
    {
     "name": "stdout",
     "output_type": "stream",
     "text": [
      "200\n"
     ]
    }
   ],
   "source": [
    "resp = requests.get(url,allow_redirects=True)\n",
    "print(resp.status_code)"
   ]
  },
  {
   "cell_type": "code",
   "execution_count": 4,
   "id": "7ec65850-d4ac-4d80-a17b-ef6e6f678962",
   "metadata": {},
   "outputs": [],
   "source": [
    "results:bytes = resp.content.decode(\"utf8\")"
   ]
  },
  {
   "cell_type": "code",
   "execution_count": 5,
   "id": "9e7b21d4-9ff4-4647-a1d4-49cf691fde4e",
   "metadata": {},
   "outputs": [
    {
     "name": "stdout",
     "output_type": "stream",
     "text": [
      "<!DOCTYPE html>\n",
      "<html class=\"Page\" lang=\"en\" data-header-hasleaderboard=\"true\" data-named-page-type=\"Home page\"  data-leaderboard-is-fixed=\"true\" data-hasZephr=\"true\">\n",
      "<head>\n",
      "    \n",
      "        \n",
      "\n",
      "<script type=\"text/javascript\" src=\"https://cdn.cookielaw.or\n"
     ]
    }
   ],
   "source": [
    "print(results[:250])"
   ]
  },
  {
   "cell_type": "code",
   "execution_count": 6,
   "id": "f9a052d5-8971-4936-ab45-b0fa01ddd534",
   "metadata": {},
   "outputs": [],
   "source": [
    "soup = BeautifulSoup(results,features=\"lxml\")"
   ]
  },
  {
   "cell_type": "code",
   "execution_count": 7,
   "id": "aacb5c62-79a2-463c-bb80-b0d8dd462373",
   "metadata": {},
   "outputs": [],
   "source": [
    "items = soup.find_all(\"li\")"
   ]
  },
  {
   "cell_type": "code",
   "execution_count": 8,
   "id": "177456b9-84ac-4cb1-9b6f-4b0d970c39d3",
   "metadata": {},
   "outputs": [
    {
     "name": "stdout",
     "output_type": "stream",
     "text": [
      "Plastic straws have come to symbolize a global pollution crisis. Trump wants them to stay https://apnews.com/article/trump-plastic-straws-pollution-oceans-packaging-e40da624633e75f120221d1d1d202554\n",
      "Judge orders LSU to reinstate professor who was removed from class following political comments https://apnews.com/article/lsu-professor-louisiana-landry-trump-571c90b3c939ca2d187120957318777a\n",
      "Christian aid groups weigh life-threatening choices about who to help after USAID funding pause https://apnews.com/article/usaid-christian-nonprofits-funding-freeze-bbb000ea0e232765db1280c093301a8a\n",
      "Fugitive dog recaptured in New Orleans after gaining national fame for escapades https://apnews.com/article/new-orleans-fugitive-dog-scrim-recaptured-48348bc8d7da4d9bf2f0597d4cc9423a\n",
      "Israel threatens 'all hell will break loose' on Hamas in latest Gaza ceasefire crisis https://apnews.com/article/israel-palestinians-hamas-war-news-ceasefire-hostages-02-12-2025-0e1af7c530fd1cf6021ff9d419314cfb\n",
      "Powell says Trump’s comments won’t affect interest rate decisions by the Fed https://apnews.com/article/inflation-interest-rates-federal-reserve-2aea2360510ea1175aaa98917f35262d\n",
      "Senate Finance Committee approves Jamieson Greer, Trump’s choice to be top U.S. trade negotiator https://apnews.com/article/trump-cabinet-trade-greer-lutnick-c8fa358407ab066bb4d8f32692ad4d84\n",
      "Trump anunciará aranceles a socios comerciales; podría generar un enfrentamiento económico https://apnews.com/article/trump-eeuu-aranceles-2efaa4e7c903d96a264dc14cb6fb8c73\n",
      "Rise in diagnoses is prompting more US adults to ask: 'Do I have ADHD?' https://apnews.com/article/diagnosing-adult-adhd-d6834e1c644e17f1e702603dfaae9448\n",
      "FACT FOCUS: No evidence that $50 million was designated by the US to buy condoms for Hamas https://apnews.com/article/gaza-condoms-fact-check-trump-50-million-26884cac6c7097d7316ca50ca4145a82\n"
     ]
    }
   ],
   "source": [
    "stories=[]\n",
    "for item in items:\n",
    "    for link in item.find_all(\"a\"):\n",
    "        if \"https://apnews.com/article/\" in link.attrs[\"href\"] and len(link.text.strip()) >1:\n",
    "            stories.append(link)\n",
    "\n",
    "stories.sort(key=lambda x: x.text)\n",
    "stories = list(set(stories))\n",
    "for i, s in enumerate(stories):\n",
    "    if i<10:\n",
    "        print(s.text, s.attrs[\"href\"])"
   ]
  },
  {
   "cell_type": "code",
   "execution_count": 9,
   "id": "7dcdcce1-3188-4173-ad5b-be0353780295",
   "metadata": {},
   "outputs": [],
   "source": [
    "with open(\"./daily_news/today.txt\", \"w\", encoding=\"utf8\") as feed:\n",
    "    for s in stories:\n",
    "        feed.write(f\"[headline:] {s.text}\\n[url:] {s.attrs['href']}\\n\")\n"
   ]
  },
  {
   "cell_type": "code",
   "execution_count": 10,
   "id": "7fdc0840-2ee1-400c-b90b-e67bd03243b0",
   "metadata": {},
   "outputs": [
    {
     "name": "stdout",
     "output_type": "stream",
     "text": [
      "https://apnews.com/article/trump-plastic-straws-pollution-oceans-packaging-e40da624633e75f120221d1d1d202554\n"
     ]
    }
   ],
   "source": [
    "story_url = stories[0].attrs[\"href\"]\n",
    "print(story_url)"
   ]
  },
  {
   "cell_type": "code",
   "execution_count": 11,
   "id": "a87bf16c-0062-4645-8229-f38e075126e5",
   "metadata": {},
   "outputs": [],
   "source": [
    "article_req = requests.get(story_url, allow_redirects=True)"
   ]
  },
  {
   "cell_type": "code",
   "execution_count": 12,
   "id": "b1b00eb5-fec2-4f91-8ec0-677f14aefb41",
   "metadata": {},
   "outputs": [],
   "source": [
    "article = BeautifulSoup(article_req.content.decode(\"utf8\"), \"html.parser\")"
   ]
  },
  {
   "cell_type": "code",
   "execution_count": 13,
   "id": "9be58afa-bd4f-4633-83bf-6f293f793f51",
   "metadata": {},
   "outputs": [
    {
     "name": "stdout",
     "output_type": "stream",
     "text": [
      "Straws might seem insignificant, inspiring jokes about the plastic vs. paper debate, but the plastic straw has come to symbolize a global pollution crisis over the past decade.\n",
      "On Monday, President Donald Trump waded into the issue when he signed an executive order to reverse a federal push away from plastic straws, declaring that paper straws “don’t work” and don’t last very long. Trump said he thinks “it’s OK” to continue using plastic straws, although they’ve have been blamed for polluting oceans and harming marine life.\n",
      "In 2015, video of a marine biologist pulling a plastic straw out of a turtle’s nose sparked outrage worldwide and countries and cities started banning them, starting with the Pacific Island nation Vanuatu and Seattle in 2018. \n",
      "A box of plastic straws is displayed, Tuesday, Feb. 11, 2025, in Cincinnati. (AP Photo/Joshua A. Bickel)\n",
      "\n",
      "Here’s what to know about the larger fight over single-use plastics in the United States:\n",
      "More than 390 million plastic straws are used every day in the United States, most for 30 minutes or less, according to advocacy group Turtle Island Restoration Network. \n",
      "Plastic straws are usually thrown away after one use, going on to litter beaches and waterways and potentially killing marine animals that mistake them for food.\n",
      "The straws are not recyclable because they are so small. They take at least 200 years to decompose, the network said. \n",
      "They break down into incredibly tiny bits of plastic smaller than a fraction of a grain of rice. These microplastics have been found in a wide range of body tissues. Though research is still limited overall, there are growing concerns that microplastics in the body could potentially be linked to heart disease, Alzheimer’s and dementia, and other problems.\n",
      "\n",
      "\n",
      "Trump’s executive order claims that paper straws use chemicals that may carry risks to human health are more expensive to produce than plastic straws. Researchers from the University of Antwerp found forever chemicals known as PFAS to be present in paper, bamboo, glass and plastic straws, but not stainless steel ones, according to a 2023 study. \n",
      "The advocacy group Beyond Plastics said that while plastics are often cheaper than paper products, the cheapest option is to skip the straw.\n",
      "Judith Enck, a former Environmental Protection Agency regional administrator who now heads up Beyond Plastics, said she hopes that people react to the executive order by committing to using fewer plastic straws and that local and state governments do, too. \n",
      "“It’s easy to just kind of almost poke fun of this, ignore it,” she said Tuesday. “But this is a moment that we as individuals and state and local policymakers can make a statement that they disagree with this executive order and are committed to using less plastic straws. It’s not that hard to do.”\n",
      "Several states and cities have banned plastic straws and some restaurants no longer automatically give them to customers. \n",
      "Plastic straws, left, sit next to paper straws on display for sale in Cincinnati on Tuesday, Feb. 11, 2025. (AP Photo/Joshua A. Bickel)\n",
      "\n",
      "President Joe Biden administration’s had committed to phasing out federal purchases of single-use plastics, including straws, from food service operations, events and packaging by 2027, and from all federal operations by 2035. \n",
      "The move was a way for the federal government to formally acknowledge the severity of the plastic pollution crisis and the scale of the response required to effectively confront it. \n",
      "Erin Simon, an expert on plastics and packaging at the World Wildlife Fund, said at the time that it sent a message around the world: If we can make change happen at scale, so can you.\n",
      "The declaration came in July, just a few months before negotiators met in South Korea to try to finish crafting a treaty to address the global crisis of plastic pollution. Negotiators didn’t reach an agreement late last year, but talks resume this year. \n",
      "Under the Biden administration, the United States at first adopted a position viewed as favoring industry, stating that countries should largely develop their own plans instead of abiding by global rules. China, the United States and Germany are the biggest players in the global plastics trade. \n",
      "The United States changed its position heading into South Korea. The delegation said it would support having an article in the treaty that addresses supply, or plastic production. More than 100 countries want an ambitious treaty that limits plastic production while tackling cleanup and recycling.\n",
      "U.S. manufacturers have asked Trump to remain at the negotiating table but revert to the old position that focused on redesigning plastic products, recycling and reuse.\n",
      "A plastic straw is displayed in a glass of milk, Tuesday, Feb. 11, 2025, in Cincinnati. (AP Photo/Joshua A. Bickel)\n",
      "\n",
      "The environment is littered with single-use plastic food and beverage containers — water bottles, takeout containers, coffee lids, straws and shopping bags.\n",
      "Every year, the world produces more than 400 million tons of new plastic. About 40% of all plastics are used in packaging, according to the United Nations. \n",
      "In 2023, Ocean Conservancy volunteers collected more than 61,000 plastic straws and stirrers polluting beaches and waterways in the United States. There were even more cigarette butts, plastic bottles, bottle caps and food wrappers, the nonprofit said. \n",
      "Most plastic is made from fossil fuels. Negotiators at the United Nations climate talks known as COP28 agreed in 2023 the world must transition away from planet-warming fossil fuels and triple the use of renewable energy.\n",
      "As pressure to reduce fossil fuels has increased globally, oil and gas companies have been looking more to the plastics side of their business as a market that could grow. Trump strongly supports and gets support from the oil and gas industry.\n",
      "The Associated Press’ climate and environmental coverage receives financial support from multiple private foundations. AP is solely responsible for all content. Find AP’s standards for working with philanthropies, a list of supporters and funded coverage areas at AP.org.\n"
     ]
    }
   ],
   "source": [
    "for paragraph in article.find(class_=\"RichTextStoryBody RichTextBody\").find_all(\"p\"):\n",
    "    print(paragraph.text)"
   ]
  },
  {
   "cell_type": "code",
   "execution_count": 14,
   "id": "7ca1eb76-ffae-47db-a4b7-30b739916a58",
   "metadata": {},
   "outputs": [],
   "source": [
    "import os\n",
    "from datetime import datetime"
   ]
  },
  {
   "cell_type": "code",
   "execution_count": 15,
   "id": "4130d696-06a9-4ed0-8863-56391fd91940",
   "metadata": {},
   "outputs": [],
   "source": [
    "\n",
    "def get_article(story_url: str):\n",
    "    today = datetime.now().strftime(\"%Y%m%d\")\n",
    "\n",
    "    article_req = requests.get(story_url, allow_redirects=True)\n",
    "    article = BeautifulSoup(article_req.content.decode(\"utf8\"), \"html.parser\")\n",
    "    story = story_url.split(\"/\")[-1].split(\"?\")[0]\n",
    "    os.makedirs(f\"./daily_news/{today}\")\n",
    "    with open(f\"./daily_news/{today}/{story}.txt\", \"w\", encoding=\"utf8\") as fh:\n",
    "        for paragraph in article.find(class_=\"RichTextStoryBody RichTextBody\").find_all(\n",
    "            \"p\"\n",
    "        ):\n",
    "            fh.write(f\"{paragraph.text}\\n\")"
   ]
  },
  {
   "cell_type": "code",
   "execution_count": 22,
   "id": "12edc02c-96e7-440d-b2e8-fa9cf34f2146",
   "metadata": {},
   "outputs": [],
   "source": [
    "get_article(story_url)"
   ]
  },
  {
   "cell_type": "code",
   "execution_count": null,
   "id": "d12051e6-c92c-4438-9656-506d30374f6c",
   "metadata": {},
   "outputs": [],
   "source": []
  }
 ],
 "metadata": {
  "kernelspec": {
   "display_name": "jarvus",
   "language": "python",
   "name": "jarvus"
  },
  "language_info": {
   "codemirror_mode": {
    "name": "ipython",
    "version": 3
   },
   "file_extension": ".py",
   "mimetype": "text/x-python",
   "name": "python",
   "nbconvert_exporter": "python",
   "pygments_lexer": "ipython3",
   "version": "3.10.16"
  }
 },
 "nbformat": 4,
 "nbformat_minor": 5
}
